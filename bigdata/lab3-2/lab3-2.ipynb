{
 "cells": [
  {
   "cell_type": "code",
   "execution_count": 1,
   "metadata": {},
   "outputs": [
    {
     "name": "stdout",
     "output_type": "stream",
     "text": [
      "Starting Spark application\n"
     ]
    },
    {
     "data": {
      "text/html": [
       "<table>\n",
       "<tr><th>ID</th><th>YARN Application ID</th><th>Kind</th><th>State</th><th>Spark UI</th><th>Driver log</th><th>Current session?</th></tr><tr><td>0</td><td>application_1637067525254_0002</td><td>pyspark</td><td>idle</td><td><a target=\"_blank\" href=\"http://ip-172-31-91-11.ec2.internal:20888/proxy/application_1637067525254_0002/\">Link</a></td><td><a target=\"_blank\" href=\"http://ip-172-31-91-110.ec2.internal:8042/node/containerlogs/container_1637067525254_0002_01_000001/livy\">Link</a></td><td>✔</td></tr></table>"
      ],
      "text/plain": [
       "<IPython.core.display.HTML object>"
      ]
     },
     "metadata": {},
     "output_type": "display_data"
    },
    {
     "data": {
      "application/vnd.jupyter.widget-view+json": {
       "model_id": "",
       "version_major": 2,
       "version_minor": 0
      },
      "text/plain": [
       "FloatProgress(value=0.0, bar_style='info', description='Progress:', layout=Layout(height='25px', width='50%'),…"
      ]
     },
     "metadata": {},
     "output_type": "display_data"
    },
    {
     "name": "stdout",
     "output_type": "stream",
     "text": [
      "SparkSession available as 'spark'.\n"
     ]
    },
    {
     "data": {
      "application/vnd.jupyter.widget-view+json": {
       "model_id": "",
       "version_major": 2,
       "version_minor": 0
      },
      "text/plain": [
       "FloatProgress(value=0.0, bar_style='info', description='Progress:', layout=Layout(height='25px', width='50%'),…"
      ]
     },
     "metadata": {},
     "output_type": "display_data"
    }
   ],
   "source": [
    "#import SparkSession\n",
    "from pyspark.sql import SparkSession"
   ]
  },
  {
   "cell_type": "code",
   "execution_count": 2,
   "metadata": {},
   "outputs": [
    {
     "data": {
      "application/vnd.jupyter.widget-view+json": {
       "model_id": "",
       "version_major": 2,
       "version_minor": 0
      },
      "text/plain": [
       "FloatProgress(value=0.0, bar_style='info', description='Progress:', layout=Layout(height='25px', width='50%'),…"
      ]
     },
     "metadata": {},
     "output_type": "display_data"
    }
   ],
   "source": [
    "#create spark session object\n",
    "spark=SparkSession.builder.appName('lab3-2').getOrCreate()"
   ]
  },
  {
   "cell_type": "code",
   "execution_count": 3,
   "metadata": {},
   "outputs": [
    {
     "data": {
      "application/vnd.jupyter.widget-view+json": {
       "model_id": "",
       "version_major": 2,
       "version_minor": 0
      },
      "text/plain": [
       "FloatProgress(value=0.0, bar_style='info', description='Progress:', layout=Layout(height='25px', width='50%'),…"
      ]
     },
     "metadata": {},
     "output_type": "display_data"
    }
   ],
   "source": [
    "# Load csv Dataset \n",
    "df=spark.read.csv('s3://datasetsjppenaf/datasets/spark/Casos_positivos_de_COVID-19_en_Colombia.csv',inferSchema=True,header=True)"
   ]
  },
  {
   "cell_type": "code",
   "execution_count": 4,
   "metadata": {},
   "outputs": [
    {
     "data": {
      "application/vnd.jupyter.widget-view+json": {
       "model_id": "",
       "version_major": 2,
       "version_minor": 0
      },
      "text/plain": [
       "FloatProgress(value=0.0, bar_style='info', description='Progress:', layout=Layout(height='25px', width='50%'),…"
      ]
     },
     "metadata": {},
     "output_type": "display_data"
    },
    {
     "name": "stdout",
     "output_type": "stream",
     "text": [
      "['fecha reporte web', 'ID de caso', 'Fecha de notificación', 'Código DIVIPOLA departamento', 'Nombre departamento', 'Código DIVIPOLA municipio', 'Nombre municipio', 'Edad', 'Unidad de medida de edad', 'Sexo', 'Tipo de contagio', 'Ubicación del caso', 'Estado', 'Código ISO del país', 'Nombre del país', 'Recuperado', 'Fecha de inicio de síntomas', 'Fecha de muerte', 'Fecha de diagnóstico', 'Fecha de recuperación', 'Tipo de recuperación', 'Pertenencia étnica', 'Nombre del grupo étnico']"
     ]
    }
   ],
   "source": [
    "df.columns"
   ]
  },
  {
   "cell_type": "code",
   "execution_count": 5,
   "metadata": {},
   "outputs": [
    {
     "data": {
      "application/vnd.jupyter.widget-view+json": {
       "model_id": "",
       "version_major": 2,
       "version_minor": 0
      },
      "text/plain": [
       "FloatProgress(value=0.0, bar_style='info', description='Progress:', layout=Layout(height='25px', width='50%'),…"
      ]
     },
     "metadata": {},
     "output_type": "display_data"
    },
    {
     "name": "stdout",
     "output_type": "stream",
     "text": [
      "root\n",
      " |-- fecha reporte web: string (nullable = true)\n",
      " |-- ID de caso: integer (nullable = true)\n",
      " |-- Fecha de notificación: string (nullable = true)\n",
      " |-- Código DIVIPOLA departamento: integer (nullable = true)\n",
      " |-- Nombre departamento: string (nullable = true)\n",
      " |-- Código DIVIPOLA municipio: integer (nullable = true)\n",
      " |-- Nombre municipio: string (nullable = true)\n",
      " |-- Edad: integer (nullable = true)\n",
      " |-- Unidad de medida de edad: integer (nullable = true)\n",
      " |-- Sexo: string (nullable = true)\n",
      " |-- Tipo de contagio: string (nullable = true)\n",
      " |-- Ubicación del caso: string (nullable = true)\n",
      " |-- Estado: string (nullable = true)\n",
      " |-- Código ISO del país: integer (nullable = true)\n",
      " |-- Nombre del país: string (nullable = true)\n",
      " |-- Recuperado: string (nullable = true)\n",
      " |-- Fecha de inicio de síntomas: string (nullable = true)\n",
      " |-- Fecha de muerte: string (nullable = true)\n",
      " |-- Fecha de diagnóstico: string (nullable = true)\n",
      " |-- Fecha de recuperación: string (nullable = true)\n",
      " |-- Tipo de recuperación: string (nullable = true)\n",
      " |-- Pertenencia étnica: integer (nullable = true)\n",
      " |-- Nombre del grupo étnico: string (nullable = true)"
     ]
    }
   ],
   "source": [
    "df.printSchema()"
   ]
  },
  {
   "cell_type": "code",
   "execution_count": 6,
   "metadata": {},
   "outputs": [
    {
     "data": {
      "application/vnd.jupyter.widget-view+json": {
       "model_id": "",
       "version_major": 2,
       "version_minor": 0
      },
      "text/plain": [
       "FloatProgress(value=0.0, bar_style='info', description='Progress:', layout=Layout(height='25px', width='50%'),…"
      ]
     },
     "metadata": {},
     "output_type": "display_data"
    },
    {
     "name": "stdout",
     "output_type": "stream",
     "text": [
      "+----------+-------------------+----+----+\n",
      "|ID de caso|Nombre departamento|Edad|Sexo|\n",
      "+----------+-------------------+----+----+\n",
      "|         1|             BOGOTA|  19|   F|\n",
      "|         2|              VALLE|  34|   M|\n",
      "|         3|          ANTIOQUIA|  50|   F|\n",
      "|         4|          ANTIOQUIA|  55|   M|\n",
      "|         5|          ANTIOQUIA|  25|   M|\n",
      "|         6|          ANTIOQUIA|  27|   F|\n",
      "|         7|          CARTAGENA|  85|   F|\n",
      "|         8|             BOGOTA|  22|   F|\n",
      "|         9|             BOGOTA|  28|   F|\n",
      "|        10|             BOGOTA|  36|   F|\n",
      "+----------+-------------------+----+----+\n",
      "only showing top 10 rows"
     ]
    }
   ],
   "source": [
    "df.select('ID de caso','Nombre departamento','Edad','Sexo').show(10)"
   ]
  },
  {
   "cell_type": "code",
   "execution_count": 7,
   "metadata": {},
   "outputs": [
    {
     "data": {
      "application/vnd.jupyter.widget-view+json": {
       "model_id": "",
       "version_major": 2,
       "version_minor": 0
      },
      "text/plain": [
       "FloatProgress(value=0.0, bar_style='info', description='Progress:', layout=Layout(height='25px', width='50%'),…"
      ]
     },
     "metadata": {},
     "output_type": "display_data"
    }
   ],
   "source": [
    "from pyspark.sql.types import StringType,DoubleType,IntegerType"
   ]
  },
  {
   "cell_type": "code",
   "execution_count": 8,
   "metadata": {},
   "outputs": [
    {
     "data": {
      "application/vnd.jupyter.widget-view+json": {
       "model_id": "",
       "version_major": 2,
       "version_minor": 0
      },
      "text/plain": [
       "FloatProgress(value=0.0, bar_style='info', description='Progress:', layout=Layout(height='25px', width='50%'),…"
      ]
     },
     "metadata": {},
     "output_type": "display_data"
    },
    {
     "name": "stdout",
     "output_type": "stream",
     "text": [
      "+----------+-------------------+----+----+----------+\n",
      "|ID de caso|Nombre departamento|Edad|Sexo|Edad + 100|\n",
      "+----------+-------------------+----+----+----------+\n",
      "|         1|             BOGOTA|  19|   F|       119|\n",
      "|         2|              VALLE|  34|   M|       134|\n",
      "|         3|          ANTIOQUIA|  50|   F|       150|\n",
      "|         4|          ANTIOQUIA|  55|   M|       155|\n",
      "|         5|          ANTIOQUIA|  25|   M|       125|\n",
      "|         6|          ANTIOQUIA|  27|   F|       127|\n",
      "|         7|          CARTAGENA|  85|   F|       185|\n",
      "|         8|             BOGOTA|  22|   F|       122|\n",
      "|         9|             BOGOTA|  28|   F|       128|\n",
      "|        10|             BOGOTA|  36|   F|       136|\n",
      "+----------+-------------------+----+----+----------+\n",
      "only showing top 10 rows"
     ]
    }
   ],
   "source": [
    "df.select('ID de caso','Nombre departamento','Edad','Sexo').withColumn(\"Edad + 100\",(df[\"Edad\"]+100)).show(10)"
   ]
  },
  {
   "cell_type": "code",
   "execution_count": 9,
   "metadata": {},
   "outputs": [
    {
     "data": {
      "application/vnd.jupyter.widget-view+json": {
       "model_id": "",
       "version_major": 2,
       "version_minor": 0
      },
      "text/plain": [
       "FloatProgress(value=0.0, bar_style='info', description='Progress:', layout=Layout(height='25px', width='50%'),…"
      ]
     },
     "metadata": {},
     "output_type": "display_data"
    }
   ],
   "source": [
    "df_new=df.drop('fecha reporte web','ID de caso')"
   ]
  },
  {
   "cell_type": "code",
   "execution_count": 10,
   "metadata": {},
   "outputs": [
    {
     "data": {
      "application/vnd.jupyter.widget-view+json": {
       "model_id": "",
       "version_major": 2,
       "version_minor": 0
      },
      "text/plain": [
       "FloatProgress(value=0.0, bar_style='info', description='Progress:', layout=Layout(height='25px', width='50%'),…"
      ]
     },
     "metadata": {},
     "output_type": "display_data"
    },
    {
     "name": "stdout",
     "output_type": "stream",
     "text": [
      "root\n",
      " |-- Fecha de notificación: string (nullable = true)\n",
      " |-- Código DIVIPOLA departamento: integer (nullable = true)\n",
      " |-- Nombre departamento: string (nullable = true)\n",
      " |-- Código DIVIPOLA municipio: integer (nullable = true)\n",
      " |-- Nombre municipio: string (nullable = true)\n",
      " |-- Edad: integer (nullable = true)\n",
      " |-- Unidad de medida de edad: integer (nullable = true)\n",
      " |-- Sexo: string (nullable = true)\n",
      " |-- Tipo de contagio: string (nullable = true)\n",
      " |-- Ubicación del caso: string (nullable = true)\n",
      " |-- Estado: string (nullable = true)\n",
      " |-- Código ISO del país: integer (nullable = true)\n",
      " |-- Nombre del país: string (nullable = true)\n",
      " |-- Recuperado: string (nullable = true)\n",
      " |-- Fecha de inicio de síntomas: string (nullable = true)\n",
      " |-- Fecha de muerte: string (nullable = true)\n",
      " |-- Fecha de diagnóstico: string (nullable = true)\n",
      " |-- Fecha de recuperación: string (nullable = true)\n",
      " |-- Tipo de recuperación: string (nullable = true)\n",
      " |-- Pertenencia étnica: integer (nullable = true)\n",
      " |-- Nombre del grupo étnico: string (nullable = true)"
     ]
    }
   ],
   "source": [
    "df_new.printSchema()"
   ]
  },
  {
   "cell_type": "code",
   "execution_count": 11,
   "metadata": {},
   "outputs": [
    {
     "data": {
      "application/vnd.jupyter.widget-view+json": {
       "model_id": "",
       "version_major": 2,
       "version_minor": 0
      },
      "text/plain": [
       "FloatProgress(value=0.0, bar_style='info', description='Progress:', layout=Layout(height='25px', width='50%'),…"
      ]
     },
     "metadata": {},
     "output_type": "display_data"
    },
    {
     "name": "stdout",
     "output_type": "stream",
     "text": [
      "+----------+-------------------+----+----+\n",
      "|ID de caso|Nombre departamento|Edad|Sexo|\n",
      "+----------+-------------------+----+----+\n",
      "|         3|          ANTIOQUIA|  50|   F|\n",
      "|         4|          ANTIOQUIA|  55|   M|\n",
      "|         5|          ANTIOQUIA|  25|   M|\n",
      "|         6|          ANTIOQUIA|  27|   F|\n",
      "|        20|          ANTIOQUIA|  26|   F|\n",
      "|        21|          ANTIOQUIA|  28|   M|\n",
      "|        22|          ANTIOQUIA|  36|   M|\n",
      "|        32|          ANTIOQUIA|  55|   M|\n",
      "|       106|          ANTIOQUIA|  44|   M|\n",
      "|       107|          ANTIOQUIA|  56|   M|\n",
      "+----------+-------------------+----+----+\n",
      "only showing top 10 rows"
     ]
    }
   ],
   "source": [
    "df.filter(df['Nombre departamento']=='ANTIOQUIA').select('ID de caso','Nombre departamento','Edad','Sexo').show(10)"
   ]
  },
  {
   "cell_type": "code",
   "execution_count": 12,
   "metadata": {},
   "outputs": [
    {
     "data": {
      "application/vnd.jupyter.widget-view+json": {
       "model_id": "",
       "version_major": 2,
       "version_minor": 0
      },
      "text/plain": [
       "FloatProgress(value=0.0, bar_style='info', description='Progress:', layout=Layout(height='25px', width='50%'),…"
      ]
     },
     "metadata": {},
     "output_type": "display_data"
    }
   ],
   "source": [
    "# UDF\n",
    "from pyspark.sql.functions import udf"
   ]
  },
  {
   "cell_type": "code",
   "execution_count": 13,
   "metadata": {},
   "outputs": [
    {
     "data": {
      "application/vnd.jupyter.widget-view+json": {
       "model_id": "",
       "version_major": 2,
       "version_minor": 0
      },
      "text/plain": [
       "FloatProgress(value=0.0, bar_style='info', description='Progress:', layout=Layout(height='25px', width='50%'),…"
      ]
     },
     "metadata": {},
     "output_type": "display_data"
    }
   ],
   "source": [
    "def tipo_riesgo(Edad):\n",
    "    if Edad <= 25:\n",
    "        return 'Bajo'\n",
    "    elif (Edad > 25) & (Edad <= 45):\n",
    "        return 'Moderado'\n",
    "    else:\n",
    "        return 'Alto'"
   ]
  },
  {
   "cell_type": "code",
   "execution_count": 14,
   "metadata": {},
   "outputs": [
    {
     "data": {
      "application/vnd.jupyter.widget-view+json": {
       "model_id": "",
       "version_major": 2,
       "version_minor": 0
      },
      "text/plain": [
       "FloatProgress(value=0.0, bar_style='info', description='Progress:', layout=Layout(height='25px', width='50%'),…"
      ]
     },
     "metadata": {},
     "output_type": "display_data"
    },
    {
     "name": "stdout",
     "output_type": "stream",
     "text": [
      "+----------+-------------------+----+----+-----------+\n",
      "|ID de caso|Nombre departamento|Edad|Sexo|Tipo Riesgo|\n",
      "+----------+-------------------+----+----+-----------+\n",
      "|         1|             BOGOTA|  19|   F|       Bajo|\n",
      "|         2|              VALLE|  34|   M|   Moderado|\n",
      "|         3|          ANTIOQUIA|  50|   F|       Alto|\n",
      "|         4|          ANTIOQUIA|  55|   M|       Alto|\n",
      "|         5|          ANTIOQUIA|  25|   M|       Bajo|\n",
      "|         6|          ANTIOQUIA|  27|   F|   Moderado|\n",
      "|         7|          CARTAGENA|  85|   F|       Alto|\n",
      "|         8|             BOGOTA|  22|   F|       Bajo|\n",
      "|         9|             BOGOTA|  28|   F|   Moderado|\n",
      "|        10|             BOGOTA|  36|   F|   Moderado|\n",
      "+----------+-------------------+----+----+-----------+\n",
      "only showing top 10 rows"
     ]
    }
   ],
   "source": [
    "riesgo_udf=udf(tipo_riesgo, StringType())\n",
    "df.select('ID de caso','Nombre departamento','Edad','Sexo').withColumn('Tipo Riesgo', riesgo_udf(df['Edad'])).show(10)"
   ]
  },
  {
   "cell_type": "code",
   "execution_count": 16,
   "metadata": {},
   "outputs": [
    {
     "data": {
      "application/vnd.jupyter.widget-view+json": {
       "model_id": "",
       "version_major": 2,
       "version_minor": 0
      },
      "text/plain": [
       "FloatProgress(value=0.0, bar_style='info', description='Progress:', layout=Layout(height='25px', width='50%'),…"
      ]
     },
     "metadata": {},
     "output_type": "display_data"
    },
    {
     "name": "stdout",
     "output_type": "stream",
     "text": [
      "DataFrame[fecha reporte web: string, ID de caso: int, Fecha de notificación: string, Código DIVIPOLA departamento: int, Nombre departamento: string, Código DIVIPOLA municipio: int, Nombre municipio: string, Edad: int, Unidad de medida de edad: int, Sexo: string, Tipo de contagio: string, Ubicación del caso: string, Estado: string, Código ISO del país: int, Nombre del país: string, Recuperado: string, Fecha de inicio de síntomas: string, Fecha de muerte: string, Fecha de diagnostico: string, Fecha de recuperación: string, Tipo de recuperación: string, Pertenencia étnica: int, Nombre del grupo étnico: string]"
     ]
    }
   ],
   "source": [
    "df.withColumnRenamed(df.columns[18],\"Fecha de diagnostico\")"
   ]
  },
  {
   "cell_type": "code",
   "execution_count": 26,
   "metadata": {},
   "outputs": [
    {
     "data": {
      "application/vnd.jupyter.widget-view+json": {
       "model_id": "",
       "version_major": 2,
       "version_minor": 0
      },
      "text/plain": [
       "FloatProgress(value=0.0, bar_style='info', description='Progress:', layout=Layout(height='25px', width='50%'),…"
      ]
     },
     "metadata": {},
     "output_type": "display_data"
    }
   ],
   "source": [
    "#------------------- Punto 3 -------------------"
   ]
  },
  {
   "cell_type": "code",
   "execution_count": 27,
   "metadata": {},
   "outputs": [
    {
     "data": {
      "application/vnd.jupyter.widget-view+json": {
       "model_id": "",
       "version_major": 2,
       "version_minor": 0
      },
      "text/plain": [
       "FloatProgress(value=0.0, bar_style='info', description='Progress:', layout=Layout(height='25px', width='50%'),…"
      ]
     },
     "metadata": {},
     "output_type": "display_data"
    }
   ],
   "source": [
    "df_3_1 = df.groupBy('Nombre departamento').count().orderBy('count',ascending=False)"
   ]
  },
  {
   "cell_type": "code",
   "execution_count": 28,
   "metadata": {},
   "outputs": [
    {
     "data": {
      "application/vnd.jupyter.widget-view+json": {
       "model_id": "",
       "version_major": 2,
       "version_minor": 0
      },
      "text/plain": [
       "FloatProgress(value=0.0, bar_style='info', description='Progress:', layout=Layout(height='25px', width='50%'),…"
      ]
     },
     "metadata": {},
     "output_type": "display_data"
    },
    {
     "name": "stdout",
     "output_type": "stream",
     "text": [
      "+-------------------+-------+\n",
      "|Nombre departamento|  count|\n",
      "+-------------------+-------+\n",
      "|             BOGOTA|1458346|\n",
      "|          ANTIOQUIA| 761740|\n",
      "|              VALLE| 413753|\n",
      "|       CUNDINAMARCA| 265392|\n",
      "|          SANTANDER| 227694|\n",
      "|       BARRANQUILLA| 213031|\n",
      "|          CARTAGENA| 125477|\n",
      "|          ATLANTICO| 121806|\n",
      "|             TOLIMA| 107902|\n",
      "|             BOYACA| 106030|\n",
      "+-------------------+-------+\n",
      "only showing top 10 rows"
     ]
    }
   ],
   "source": [
    "df_3_1.show(10)"
   ]
  },
  {
   "cell_type": "code",
   "execution_count": 29,
   "metadata": {},
   "outputs": [
    {
     "data": {
      "application/vnd.jupyter.widget-view+json": {
       "model_id": "",
       "version_major": 2,
       "version_minor": 0
      },
      "text/plain": [
       "FloatProgress(value=0.0, bar_style='info', description='Progress:', layout=Layout(height='25px', width='50%'),…"
      ]
     },
     "metadata": {},
     "output_type": "display_data"
    }
   ],
   "source": [
    "df_3_2 = df.groupBy('Nombre municipio').count().orderBy('count',ascending=False)"
   ]
  },
  {
   "cell_type": "code",
   "execution_count": 30,
   "metadata": {},
   "outputs": [
    {
     "data": {
      "application/vnd.jupyter.widget-view+json": {
       "model_id": "",
       "version_major": 2,
       "version_minor": 0
      },
      "text/plain": [
       "FloatProgress(value=0.0, bar_style='info', description='Progress:', layout=Layout(height='25px', width='50%'),…"
      ]
     },
     "metadata": {},
     "output_type": "display_data"
    },
    {
     "name": "stdout",
     "output_type": "stream",
     "text": [
      "+----------------+-------+\n",
      "|Nombre municipio|  count|\n",
      "+----------------+-------+\n",
      "|          BOGOTA|1458346|\n",
      "|        MEDELLIN| 417634|\n",
      "|            CALI| 285199|\n",
      "|    BARRANQUILLA| 213031|\n",
      "|       CARTAGENA| 125477|\n",
      "|     BUCARAMANGA| 108228|\n",
      "|          IBAGUE|  75185|\n",
      "|       MANIZALES|  69753|\n",
      "|     SANTA MARTA|  69553|\n",
      "|           BELLO|  63070|\n",
      "+----------------+-------+\n",
      "only showing top 10 rows"
     ]
    }
   ],
   "source": [
    "df_3_2.show(10)"
   ]
  },
  {
   "cell_type": "code",
   "execution_count": 31,
   "metadata": {},
   "outputs": [
    {
     "data": {
      "application/vnd.jupyter.widget-view+json": {
       "model_id": "",
       "version_major": 2,
       "version_minor": 0
      },
      "text/plain": [
       "FloatProgress(value=0.0, bar_style='info', description='Progress:', layout=Layout(height='25px', width='50%'),…"
      ]
     },
     "metadata": {},
     "output_type": "display_data"
    }
   ],
   "source": [
    "df_3_3 = df.withColumnRenamed(df.columns[18],\"Fecha de diagnostico\").groupBy('Fecha de diagnostico').count().orderBy('count',ascending=False)"
   ]
  },
  {
   "cell_type": "code",
   "execution_count": 32,
   "metadata": {},
   "outputs": [
    {
     "data": {
      "application/vnd.jupyter.widget-view+json": {
       "model_id": "",
       "version_major": 2,
       "version_minor": 0
      },
      "text/plain": [
       "FloatProgress(value=0.0, bar_style='info', description='Progress:', layout=Layout(height='25px', width='50%'),…"
      ]
     },
     "metadata": {},
     "output_type": "display_data"
    },
    {
     "name": "stdout",
     "output_type": "stream",
     "text": [
      "+--------------------+-----+\n",
      "|Fecha de diagnostico|count|\n",
      "+--------------------+-----+\n",
      "|   25/6/2021 0:00:00|34164|\n",
      "|   23/6/2021 0:00:00|33918|\n",
      "|   15/6/2021 0:00:00|33812|\n",
      "|   24/6/2021 0:00:00|33206|\n",
      "|   21/6/2021 0:00:00|33061|\n",
      "|   16/6/2021 0:00:00|32477|\n",
      "|    9/6/2021 0:00:00|32437|\n",
      "|   29/6/2021 0:00:00|32081|\n",
      "|   11/6/2021 0:00:00|31951|\n",
      "|    8/6/2021 0:00:00|31850|\n",
      "+--------------------+-----+\n",
      "only showing top 10 rows"
     ]
    }
   ],
   "source": [
    "df_3_3.show(10)"
   ]
  },
  {
   "cell_type": "code",
   "execution_count": 33,
   "metadata": {
    "scrolled": true
   },
   "outputs": [
    {
     "data": {
      "application/vnd.jupyter.widget-view+json": {
       "model_id": "",
       "version_major": 2,
       "version_minor": 0
      },
      "text/plain": [
       "FloatProgress(value=0.0, bar_style='info', description='Progress:', layout=Layout(height='25px', width='50%'),…"
      ]
     },
     "metadata": {},
     "output_type": "display_data"
    }
   ],
   "source": [
    "df_3_4 = df.groupBy('Edad').count().orderBy('count',ascending=False)"
   ]
  },
  {
   "cell_type": "code",
   "execution_count": 34,
   "metadata": {},
   "outputs": [
    {
     "data": {
      "application/vnd.jupyter.widget-view+json": {
       "model_id": "",
       "version_major": 2,
       "version_minor": 0
      },
      "text/plain": [
       "FloatProgress(value=0.0, bar_style='info', description='Progress:', layout=Layout(height='25px', width='50%'),…"
      ]
     },
     "metadata": {},
     "output_type": "display_data"
    },
    {
     "name": "stdout",
     "output_type": "stream",
     "text": [
      "+----+------+\n",
      "|Edad| count|\n",
      "+----+------+\n",
      "|  30|123167|\n",
      "|  28|122251|\n",
      "|  29|122140|\n",
      "|  27|120524|\n",
      "|  26|120344|\n",
      "|  31|120016|\n",
      "|  32|117204|\n",
      "|  25|115596|\n",
      "|  33|112788|\n",
      "|  35|112106|\n",
      "+----+------+\n",
      "only showing top 10 rows"
     ]
    }
   ],
   "source": [
    "df_3_4.show(10)"
   ]
  },
  {
   "cell_type": "code",
   "execution_count": 35,
   "metadata": {},
   "outputs": [
    {
     "data": {
      "application/vnd.jupyter.widget-view+json": {
       "model_id": "",
       "version_major": 2,
       "version_minor": 0
      },
      "text/plain": [
       "FloatProgress(value=0.0, bar_style='info', description='Progress:', layout=Layout(height='25px', width='50%'),…"
      ]
     },
     "metadata": {},
     "output_type": "display_data"
    }
   ],
   "source": [
    "#¿Cuál es la edad promedio de los contagiados por departamento?"
   ]
  },
  {
   "cell_type": "code",
   "execution_count": 36,
   "metadata": {},
   "outputs": [
    {
     "data": {
      "application/vnd.jupyter.widget-view+json": {
       "model_id": "",
       "version_major": 2,
       "version_minor": 0
      },
      "text/plain": [
       "FloatProgress(value=0.0, bar_style='info', description='Progress:', layout=Layout(height='25px', width='50%'),…"
      ]
     },
     "metadata": {},
     "output_type": "display_data"
    }
   ],
   "source": [
    "df_3_5 = df.groupBy('Nombre departamento').mean().select('Nombre departamento','avg(Edad)')"
   ]
  },
  {
   "cell_type": "code",
   "execution_count": 37,
   "metadata": {},
   "outputs": [
    {
     "data": {
      "application/vnd.jupyter.widget-view+json": {
       "model_id": "",
       "version_major": 2,
       "version_minor": 0
      },
      "text/plain": [
       "FloatProgress(value=0.0, bar_style='info', description='Progress:', layout=Layout(height='25px', width='50%'),…"
      ]
     },
     "metadata": {},
     "output_type": "display_data"
    },
    {
     "name": "stdout",
     "output_type": "stream",
     "text": [
      "+-------------------+-----------------+\n",
      "|Nombre departamento|        avg(Edad)|\n",
      "+-------------------+-----------------+\n",
      "|           CASANARE|37.17431423538294|\n",
      "|          ANTIOQUIA|39.01414262084176|\n",
      "|       CUNDINAMARCA|38.80535961897872|\n",
      "|           PUTUMAYO|39.22509888529306|\n",
      "|              VALLE|41.17042535039021|\n",
      "|             NARIÑO|41.02124353481764|\n",
      "|              CAUCA|40.90193264955448|\n",
      "|            VICHADA|36.70177792687018|\n",
      "|            QUINDIO|42.05698362939742|\n",
      "|              HUILA|40.47475579218084|\n",
      "+-------------------+-----------------+\n",
      "only showing top 10 rows"
     ]
    }
   ],
   "source": [
    "df_3_5.show(10)"
   ]
  },
  {
   "cell_type": "code",
   "execution_count": 38,
   "metadata": {},
   "outputs": [
    {
     "data": {
      "application/vnd.jupyter.widget-view+json": {
       "model_id": "",
       "version_major": 2,
       "version_minor": 0
      },
      "text/plain": [
       "FloatProgress(value=0.0, bar_style='info', description='Progress:', layout=Layout(height='25px', width='50%'),…"
      ]
     },
     "metadata": {},
     "output_type": "display_data"
    }
   ],
   "source": [
    "#save the dataframe as single csv \n",
    "df_3_1.coalesce(1).write.csv(\"s3://datasetsjppenaf/lab3-2/3-1\",header=\"true\")\n",
    "df_3_2.coalesce(1).write.csv(\"s3://datasetsjppenaf/lab3-2/3-2\",header=\"true\")\n",
    "df_3_3.coalesce(1).write.csv(\"s3://datasetsjppenaf/lab3-2/3-3\",header=\"true\")\n",
    "df_3_4.coalesce(1).write.csv(\"s3://datasetsjppenaf/lab3-2/3-4\",header=\"true\")\n",
    "df_3_5.coalesce(1).write.csv(\"s3://datasetsjppenaf/lab3-2/3-5\",header=\"true\")"
   ]
  }
 ],
 "metadata": {
  "kernelspec": {
   "display_name": "PySpark",
   "language": "",
   "name": "pysparkkernel"
  },
  "language_info": {
   "codemirror_mode": {
    "name": "python",
    "version": 3
   },
   "mimetype": "text/x-python",
   "name": "pyspark",
   "pygments_lexer": "python3"
  }
 },
 "nbformat": 4,
 "nbformat_minor": 4
}
