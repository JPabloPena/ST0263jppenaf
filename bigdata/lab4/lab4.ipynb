{
  "cells": [
    {
      "cell_type": "code",
      "execution_count": null,
      "metadata": {
        "autoscroll": "auto"
      },
      "outputs": [],
      "source": [
        "%spark.pyspark\n",
        "df=spark.read.csv('s3://datasetsjppenaf/datasets/tablecovid/',inferSchema=True,header=True)"
      ]
    },
    {
      "cell_type": "code",
      "execution_count": 1,
      "metadata": {
        "autoscroll": "auto"
      },
      "outputs": [],
      "source": [
        "%spark.pyspark\n",
        "df.createOrReplaceTempView(\"covid1\")"
      ]
    },
    {
      "cell_type": "code",
      "execution_count": 2,
      "metadata": {
        "autoscroll": "auto"
      },
      "outputs": [],
      "source": [
        "%spark.pyspark\n",
        "df_1_sql = spark.sql(\"SELECT COUNT(`nombre departamento`), `nombre departamento` FROM covid1 GROUP BY `nombre departamento` ORDER BY COUNT(`nombre departamento`) DESC LIMIT 10;\")"
      ]
    },
    {
      "cell_type": "code",
      "execution_count": 3,
      "metadata": {
        "autoscroll": "auto"
      },
      "outputs": [],
      "source": [
        "%spark.pyspark\n",
        "df_1_sql.show()"
      ]
    },
    {
      "cell_type": "code",
      "execution_count": 4,
      "metadata": {
        "autoscroll": "auto"
      },
      "outputs": [],
      "source": [
        "%spark.pyspark\n",
        "df_2_sql = spark.sql(\"SELECT COUNT(`nombre municipio`), `nombre municipio` FROM covid1 GROUP BY `nombre municipio` ORDER BY COUNT(`nombre municipio`) DESC LIMIT 10;\")"
      ]
    },
    {
      "cell_type": "code",
      "execution_count": 5,
      "metadata": {
        "autoscroll": "auto"
      },
      "outputs": [],
      "source": [
        "%spark.pyspark\n",
        "df_2_sql.show()"
      ]
    },
    {
      "cell_type": "code",
      "execution_count": 6,
      "metadata": {
        "autoscroll": "auto"
      },
      "outputs": [],
      "source": [
        "%spark.pyspark\n",
        "df_3_sql = spark.sql(\"SELECT COUNT(`fecha de diagnóstico`), `fecha de diagnóstico` FROM covid1 GROUP BY `fecha de diagnóstico` ORDER BY COUNT(`fecha de diagnóstico`) DESC LIMIT 10;\")"
      ]
    },
    {
      "cell_type": "code",
      "execution_count": 7,
      "metadata": {
        "autoscroll": "auto"
      },
      "outputs": [],
      "source": [
        "%spark.pyspark\n",
        "df_3_sql.show()"
      ]
    },
    {
      "cell_type": "code",
      "execution_count": 8,
      "metadata": {
        "autoscroll": "auto"
      },
      "outputs": [],
      "source": [
        "%spark.pyspark\n",
        "df_4_sql = spark.sql(\"SELECT COUNT(`edad`), edad FROM covid1 GROUP BY edad ORDER BY COUNT(`edad`) DESC LIMIT 10;\")"
      ]
    },
    {
      "cell_type": "code",
      "execution_count": 9,
      "metadata": {
        "autoscroll": "auto"
      },
      "outputs": [],
      "source": [
        "%spark.pyspark\n",
        "df_4_sql.show()"
      ]
    },
    {
      "cell_type": "code",
      "execution_count": 10,
      "metadata": {
        "autoscroll": "auto"
      },
      "outputs": [],
      "source": [
        "%spark.pyspark\n",
        "df_5_sql = spark.sql(\"SELECT AVG(edad), `nombre departamento` FROM covid1 GROUP BY `nombre departamento` LIMIT 10;\")"
      ]
    },
    {
      "cell_type": "code",
      "execution_count": 11,
      "metadata": {
        "autoscroll": "auto"
      },
      "outputs": [],
      "source": [
        "%spark.pyspark\n",
        "df_5_sql.show()"
      ]
    },
    {
      "cell_type": "code",
      "execution_count": 12,
      "metadata": {
        "autoscroll": "auto"
      },
      "outputs": [],
      "source": [
        "%spark.pyspark\n",
        "df_1_sql.coalesce(1).write.csv(\"s3://datasetsjppenaf/lab4/4-1\",header=\"true\")\n",
        "df_2_sql.coalesce(1).write.csv(\"s3://datasetsjppenaf/lab4/4-2\",header=\"true\")\n",
        "df_3_sql.coalesce(1).write.csv(\"s3://datasetsjppenaf/lab4/4-3\",header=\"true\")\n",
        "df_4_sql.coalesce(1).write.csv(\"s3://datasetsjppenaf/lab4/4-4\",header=\"true\")\n",
        "df_5_sql.coalesce(1).write.csv(\"s3://datasetsjppenaf/lab4/4-5\",header=\"true\")"
      ]
    },
    {
      "cell_type": "code",
      "execution_count": 13,
      "metadata": {
        "autoscroll": "auto"
      },
      "outputs": [],
      "source": [
        "%spark.pyspark\n"
      ]
    }
  ],
  "metadata": {
    "kernelspec": {
      "language": "scala",
      "name": "spark2-scala"
    },
    "language_info": {
      "codemirror_mode": "text/x-scala",
      "file_extension": ".scala",
      "mimetype": "text/x-scala",
      "name": "scala",
      "pygments_lexer": "scala"
    },
    "name": "lab4"
  },
  "nbformat": 4,
  "nbformat_minor": 2
}
